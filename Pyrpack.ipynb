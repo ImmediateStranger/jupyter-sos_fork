{
 "cells": [
  {
   "cell_type": "markdown",
   "metadata": {
    "kernel": "SoS"
   },
   "source": [
    "# Example of using Python and R in a single notebook"
   ]
  },
  {
   "cell_type": "markdown",
   "metadata": {
    "kernel": "SoS"
   },
   "source": [
    "## Using Multiple Kernels in one notebook"
   ]
  },
  {
   "cell_type": "markdown",
   "metadata": {
    "kernel": "SoS"
   },
   "source": [
    "## An example of using Python and R in the same notebook"
   ]
  },
  {
   "cell_type": "markdown",
   "metadata": {
    "kernel": "SoS"
   },
   "source": [
    "In this example we are converting an MS Excel file to csv format using Python `pandas` module. We then use `R` to annotate the gene names and draw some plot. The annotated data will be sent back to Python and write in excel format."
   ]
  },
  {
   "cell_type": "markdown",
   "metadata": {
    "kernel": "SoS"
   },
   "source": [
    "Let us first have a look at the data in SoS using its `%preview` magic. This magic reads data from the excel file and previews it as a sortable and searchable table. The `-n` option tells the magic to display the result in the main notebook, not in the SoS side panel."
   ]
  },
  {
   "cell_type": "code",
   "execution_count": null,
   "metadata": {
    "kernel": "SoS",
    "scrolled": true
   },
   "outputs": [],
   "source": [
    "%preview -n wheat100.csv"
   ]
  },
  {
   "cell_type": "markdown",
   "metadata": {
    "kernel": "SoS"
   },
   "source": [
    "Because SoS is based on Python 3.6, we can technically use SoS kernel to read the csv file, but we use a `Python 3` kernel anyway:"
   ]
  },
  {
   "cell_type": "code",
   "execution_count": 2,
   "metadata": {
    "kernel": "Python3"
   },
   "outputs": [],
   "source": [
    "import pandas as pd\n",
    "data = pd.read_excel('DEG_list.xlsx')"
   ]
  },
  {
   "cell_type": "markdown",
   "metadata": {
    "kernel": "Python3"
   },
   "source": [
    "We can then go to a R kernel and get `data` from the Python3 kernel"
   ]
  },
  {
   "cell_type": "code",
   "execution_count": 3,
   "metadata": {
    "kernel": "R"
   },
   "outputs": [],
   "source": [
    "%get data --from Python3"
   ]
  },
  {
   "cell_type": "markdown",
   "metadata": {
    "kernel": "R"
   },
   "source": [
    "We can also draw some plot and preview the result. Instead of displaying the result directly in the notebook, the R code saves the image in a file (so that it can be shared with others separately) and use the `%preview` magic to display it in the notebook. "
   ]
  },
  {
   "cell_type": "markdown",
   "metadata": {
    "kernel": "R"
   },
   "source": [
    "After we confirm that the result is correct, we can transfer the data back to Python and write in excel format."
   ]
  },
  {
   "cell_type": "markdown",
   "metadata": {
    "heading_collapsed": true,
    "kernel": "Python3"
   },
   "source": [
    "## Session Info"
   ]
  },
  {
   "cell_type": "markdown",
   "metadata": {
    "hidden": true,
    "kernel": "Python3"
   },
   "source": [
    "As a good practice, a `%sessioninfo` magic should be used at the end of all SoS Notebooks to show the session information of all kernels involved."
   ]
  },
  {
   "cell_type": "code",
   "execution_count": 7,
   "metadata": {
    "hidden": true,
    "kernel": "SoS"
   },
   "outputs": [
    {
     "data": {
      "text/html": [
       "<p class=\"session_section\">SoS</p>\n",
       "<table class=\"session_info\">\n",
       "<tr>\n",
       "<th>SoS Version</th><td><pre>0.16.12</pre></td>\n",
       "</tr>\n",
       "</table>\n",
       "<p class=\"session_section\">Python3</p>\n",
       "<table class=\"session_info\">\n",
       "<tr>\n",
       "<th>Kernel</th><td><pre>python3</pre></td>\n",
       "</tr>\n",
       "<tr>\n",
       "<th>Language</th><td><pre>Python3</pre></td>\n",
       "</tr>\n",
       "<tr>\n",
       "<th>Version</th><td><pre>3.6.6 |Anaconda, Inc.| (default, Jun 28 2018, 11:07:29) \n",
       "[GCC 4.2.1 Compatible Clang 4.0.1 (tags/RELEASE_401/final)]</pre></td>\n",
       "</tr>\n",
       "<tr>\n",
       "<th>pandas</th><td><pre>0.23.4</pre></td>\n",
       "</tr>\n",
       "</table>\n",
       "<p class=\"session_section\">R</p>\n",
       "<table class=\"session_info\">\n",
       "<tr>\n",
       "<th>Kernel</th><td><pre>ir</pre></td>\n",
       "</tr>\n",
       "<tr>\n",
       "<th>Language</th><td><pre>R</pre></td>\n",
       "</tr>\n",
       "<tr>\n",
       "<td colspan=\"2\"><pre>R version 3.4.2 (2017-09-28)\n",
       "Platform: x86_64-apple-darwin15.6.0 (64-bit)\n",
       "Running under: macOS Sierra 10.12.5\n",
       "\n",
       "Matrix products: default\n",
       "BLAS: /Library/Frameworks/R.framework/Versions/3.4/Resources/lib/libRblas.0.dylib\n",
       "LAPACK: /Library/Frameworks/R.framework/Versions/3.4/Resources/lib/libRlapack.dylib\n",
       "\n",
       "locale:\n",
       "[1] en_US.UTF-8/en_US.UTF-8/en_US.UTF-8/C/en_US.UTF-8/en_US.UTF-8\n",
       "\n",
       "attached base packages:\n",
       "[1] stats     graphics  grDevices utils     datasets  methods   base     \n",
       "\n",
       "other attached packages:\n",
       "[1] biomaRt_2.34.2 feather_0.3.1 \n",
       "\n",
       "loaded via a namespace (and not attached):\n",
       " [1] Rcpp_0.12.18         pillar_1.3.0         compiler_3.4.2      \n",
       " [4] prettyunits_1.0.2    progress_1.2.0       bitops_1.0-6        \n",
       " [7] base64enc_0.1-3      tools_3.4.2          digest_0.6.15       \n",
       "[10] uuid_0.1-2           bit_1.1-14           jsonlite_1.5        \n",
       "[13] evaluate_0.11        RSQLite_2.1.1        memoise_1.1.0       \n",
       "[16] tibble_1.4.2         pkgconfig_2.0.2      rlang_0.2.2         \n",
       "[19] IRdisplay_0.5.0      DBI_1.0.0            curl_3.2            \n",
       "[22] IRkernel_0.8.12.9000 parallel_3.4.2       httr_1.3.1          \n",
       "[25] repr_0.15.0          stringr_1.3.1        S4Vectors_0.16.0    \n",
       "[28] hms_0.4.2            IRanges_2.12.0       stats4_3.4.2        \n",
       "[31] bit64_0.9-7          Biobase_2.38.0       R6_2.2.2            \n",
       "[34] AnnotationDbi_1.40.0 XML_3.98-1.16        pbdZMQ_0.3-3        \n",
       "[37] blob_1.1.1           magrittr_1.5         htmltools_0.3.6     \n",
       "[40] BiocGenerics_0.24.0  assertthat_0.2.0     stringi_1.2.4       \n",
       "[43] RCurl_1.95-4.11      crayon_1.3.4        </pre></td>\n",
       "</tr>\n",
       "</table>\n"
      ]
     },
     "metadata": {},
     "output_type": "display_data"
    }
   ],
   "source": [
    "%sessioninfo"
   ]
  }
 ],
 "metadata": {
  "anaconda-cloud": {},
  "kernelspec": {
   "display_name": "SoS",
   "language": "sos",
   "name": "sos"
  },
  "language_info": {
   "codemirror_mode": "sos",
   "file_extension": ".sos",
   "mimetype": "text/x-sos",
   "name": "sos",
   "nbconvert_exporter": "sos_notebook.converter.SoS_Exporter",
   "pygments_lexer": "sos"
  },
  "sos": {
   "default_kernel": "SoS",
   "kernels": [
    [
     "Python3",
     "python3",
     "Python3",
     "#FFD91A"
    ],
    [
     "R",
     "ir",
     "R",
     "#DCDCDA"
    ],
    [
     "SoS",
     "sos",
     "",
     ""
    ]
   ],
   "panel": {
    "displayed": true,
    "height": 0,
    "style": "side"
   },
   "version": "0.20.1"
  }
 },
 "nbformat": 4,
 "nbformat_minor": 2
}
